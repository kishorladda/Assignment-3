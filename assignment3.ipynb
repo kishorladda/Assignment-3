{
 "cells": [
  {
   "cell_type": "code",
   "execution_count": 2,
   "id": "db00365f-7644-4e05-af75-196a96ef29b9",
   "metadata": {},
   "outputs": [],
   "source": [
    "#Q1.  Explain with an example each when to use a for loop and a while loop. "
   ]
  },
  {
   "cell_type": "code",
   "execution_count": 3,
   "id": "5cf003ff-1daf-41d7-9c0c-37efc2681640",
   "metadata": {},
   "outputs": [],
   "source": [
    "ans: '''we use for loop when we did know the number of iterations that is nothing but the number \n",
    "       of data available in the list and we use while loop when we did not the exact number of iterations\n",
    "       that we are going to get so if there are multiple inputs that can not be count then we should use \n",
    "       while loop...'''"
   ]
  },
  {
   "cell_type": "code",
   "execution_count": 4,
   "id": "9b32104c-0da7-40d5-9204-251fe15d3ff5",
   "metadata": {},
   "outputs": [],
   "source": [
    "#Q2. Write a python program to print the sum and product of the first 10 natural numbers using for and while loop."
   ]
  },
  {
   "cell_type": "code",
   "execution_count": 3,
   "id": "ddf43110-7a99-4997-94ec-1e58a022e54d",
   "metadata": {},
   "outputs": [
    {
     "data": {
      "text/plain": [
       "55"
      ]
     },
     "execution_count": 3,
     "metadata": {},
     "output_type": "execute_result"
    }
   ],
   "source": [
    "result = 0\n",
    "for i in range (0,11):\n",
    "    result = result + i\n",
    "result"
   ]
  },
  {
   "cell_type": "code",
   "execution_count": 5,
   "id": "e8a279d9-50b3-4cad-859b-67a6e7a2e303",
   "metadata": {},
   "outputs": [
    {
     "data": {
      "text/plain": [
       "55"
      ]
     },
     "execution_count": 5,
     "metadata": {},
     "output_type": "execute_result"
    }
   ],
   "source": [
    "counter = 0\n",
    "result = 0\n",
    "while counter <= 10 :\n",
    "    result = result + counter\n",
    "    counter= counter+1\n",
    "result"
   ]
  },
  {
   "cell_type": "code",
   "execution_count": 8,
   "id": "25ae80ae-0b05-49ff-8c00-9249bdca5875",
   "metadata": {},
   "outputs": [
    {
     "data": {
      "text/plain": [
       "3628800"
      ]
     },
     "execution_count": 8,
     "metadata": {},
     "output_type": "execute_result"
    }
   ],
   "source": [
    "product = 1\n",
    "for i in range(1,11):\n",
    "    product = product * i\n",
    "product"
   ]
  },
  {
   "cell_type": "code",
   "execution_count": 9,
   "id": "fa128c8b-86f0-42ac-b804-04bd5e07b3f9",
   "metadata": {},
   "outputs": [
    {
     "data": {
      "text/plain": [
       "3628800"
      ]
     },
     "execution_count": 9,
     "metadata": {},
     "output_type": "execute_result"
    }
   ],
   "source": [
    "product = 1\n",
    "i = 1\n",
    "while i <= 10 :\n",
    "    product = product*i\n",
    "    i += 1\n",
    "product\n"
   ]
  },
  {
   "cell_type": "code",
   "execution_count": 10,
   "id": "afde1e16-191e-4bc4-859f-35cc8d2ce8e6",
   "metadata": {},
   "outputs": [],
   "source": [
    "#Q3. Create a python program to compute the electricity bill for a household. "
   ]
  },
  {
   "cell_type": "code",
   "execution_count": 11,
   "id": "302bc50e-d060-4040-9300-081b195cabda",
   "metadata": {},
   "outputs": [
    {
     "name": "stdin",
     "output_type": "stream",
     "text": [
      "enter your units 310\n"
     ]
    },
    {
     "name": "stdout",
     "output_type": "stream",
     "text": [
      "you will be charged rs 2250\n"
     ]
    }
   ],
   "source": [
    "units = int(input('enter your units'))\n",
    "x = 0\n",
    "if units <= 100:\n",
    "    x = units*4.5\n",
    "    print('you will be charge rs ', x)\n",
    "elif units <= 200:\n",
    "    x = 450 + (units-100)*6\n",
    "    print('you will be charged rs',x)\n",
    "elif units <= 300:\n",
    "    x = 1050 + (units-200)*10\n",
    "    print('you will be charged rs',x)\n",
    "else:\n",
    "    units > 300\n",
    "    x = 2050 + (units-300)*20\n",
    "    print('you will be charged rs',x)   "
   ]
  },
  {
   "cell_type": "code",
   "execution_count": 12,
   "id": "8e99d34b-8862-44eb-8f98-0515c4765ba6",
   "metadata": {},
   "outputs": [],
   "source": [
    "#Q4. Create a list of numbers from 1 to 100. Use for loop and while loop to calculate the cube of each  number     and if the cube of that number is divisible by 4 or 5 then append that number in a list and print  that list. \n"
   ]
  },
  {
   "cell_type": "code",
   "execution_count": 13,
   "id": "c9c38395-4d8b-49cd-b1cf-511ec04f7a3a",
   "metadata": {},
   "outputs": [
    {
     "name": "stdout",
     "output_type": "stream",
     "text": [
      "8 ,  64 ,  125 ,  216 ,  512 ,  1000 ,  1728 ,  2744 ,  3375 ,  4096 ,  5832 ,  8000 ,  10648 ,  13824 ,  15625 ,  17576 ,  21952 ,  27000 ,  32768 ,  39304 ,  42875 ,  46656 ,  54872 ,  64000 ,  74088 ,  85184 ,  91125 ,  97336 ,  110592 ,  125000 ,  140608 ,  157464 ,  166375 ,  175616 ,  195112 ,  216000 ,  238328 ,  262144 ,  274625 ,  287496 ,  314432 ,  343000 ,  373248 ,  405224 ,  421875 ,  438976 ,  474552 ,  512000 ,  551368 ,  592704 ,  614125 ,  636056 ,  681472 ,  729000 ,  778688 ,  830584 ,  857375 ,  884736 ,  941192 ,  1000000 ,  "
     ]
    }
   ],
   "source": [
    "l = []\n",
    "i = 1\n",
    "x = 'cube'\n",
    "for i in range(1,101):\n",
    "    x = i**3\n",
    "    if x%4 == 0 or x%5 == 0:\n",
    "        print(x , ',  ', end='')\n",
    "        l.append(x)\n",
    "    else :\n",
    "         continue\n"
   ]
  },
  {
   "cell_type": "code",
   "execution_count": 14,
   "id": "1d5aa6b0-d0cb-4a11-83fe-2c7ab1b561bd",
   "metadata": {},
   "outputs": [],
   "source": [
    "#Q5.  Write a program to filter count vowels in the below-given string. \n",
    "     #string = \"I want to become a data scientist\" "
   ]
  },
  {
   "cell_type": "code",
   "execution_count": 15,
   "id": "82f6c493-3d36-489e-ae14-8c9cfc58b059",
   "metadata": {},
   "outputs": [
    {
     "name": "stdin",
     "output_type": "stream",
     "text": [
      "enter your sentence I want to become a data scientist\n"
     ]
    },
    {
     "name": "stdout",
     "output_type": "stream",
     "text": [
      "12\n"
     ]
    }
   ],
   "source": [
    "l = ['a','e','i','o','u','A','E','I','O','U']\n",
    "s = str(input('enter your sentence'))\n",
    "l1 = []\n",
    "count = 0\n",
    "for i in s :\n",
    "    if i in l :\n",
    "        count += 1 \n",
    "        l1.append(count)\n",
    "l1\n",
    "print(len(l1))"
   ]
  },
  {
   "cell_type": "code",
   "execution_count": null,
   "id": "c6c24986-c866-4e19-a0c3-3b216cef0b6f",
   "metadata": {},
   "outputs": [],
   "source": []
  }
 ],
 "metadata": {
  "kernelspec": {
   "display_name": "Python 3 (ipykernel)",
   "language": "python",
   "name": "python3"
  },
  "language_info": {
   "codemirror_mode": {
    "name": "ipython",
    "version": 3
   },
   "file_extension": ".py",
   "mimetype": "text/x-python",
   "name": "python",
   "nbconvert_exporter": "python",
   "pygments_lexer": "ipython3",
   "version": "3.10.8"
  }
 },
 "nbformat": 4,
 "nbformat_minor": 5
}
